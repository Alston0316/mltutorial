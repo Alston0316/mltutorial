{
 "cells": [
  {
   "cell_type": "markdown",
   "metadata": {},
   "source": [
    "<table>\n",
    "    <tr>\n",
    "        <td style=\"text-align:left;\"><div style=\"font-family: monospace; font-size: 2em; display: inline-block; width:60%\">1. Machine Learning Basics</div><img src=\"images/roshan.png\" style=\"width:30%; display: inline; text-align: left; float:right;\"></td>\n",
    "        <td></td>\n",
    "    </tr>\n",
    "</table>"
   ]
  },
  {
   "cell_type": "markdown",
   "metadata": {},
   "source": [
    "TensorFlow is Google's framework for developing Machine Learning models. Before we dive into TensorFlow, I will go over some basic concepts of machine learning and deep learning that will make the rest of this tutorial more understandable.\n",
    "\n",
    "This tutorial is for developers who are comfortable with developing in some high level language but are not well versed in machine learning concepts. It might also be useful for non-developers who are good at a specific domain like mathematics, statistics, medical field or, social studies and are eager to implement machine learning in their fields.\n",
    "\n",
    "Machine Learning (ML) is a branch of Artificial Intelligence (AI) with the goal of using data instead of code to produce logic. The goal is to produce models that do tasks that we usually equate human level intelligence. For example:\n",
    "\n",
    "- Email Spam Detection\n",
    "- Credit Card Fraud Detection\n",
    "- Finding Exoplanets\n",
    "- Facial Recognition\n",
    "- Stock Market Auto Trading\n",
    "\n",
    "The way to solve these problems is by developing a machine learning model. So a machine learning model is your final product that can solve a problem (you can think of it as a learning student). The way these models are built is using some machine learning algorithm (you can think of it as the model's teacher). These algorithms take data and train a model to do the task at hand. There are three major types of machine learning algorithms:"
   ]
  },
  {
   "cell_type": "markdown",
   "metadata": {},
   "source": [
    "# Supervised Learning (SL)\n",
    "\n",
    "Supervised learning is teaching a model to give an output based on some input. The way we teach the model how to do that is by giving the model plenty of examples and their outputs. There are two types of problems that we can solve with supervised learning which are:\n",
    "\n",
    "## Classification\n",
    "\n",
    "Classification is used to teach a model to output a category or a class based on a data point. Like telling if a photo is of a cat or a dog.\n",
    "\n",
    "Meet `Tensy`, a robot eager to learn and solve human problems. [@TensyRobot](https://twitter.com/TensyRobot)\n",
    "\n",
    "![Tensy's Photo is Missing!](images/tensy.png)\n",
    "\n",
    "I want `Tensy` to learn how to tell cats from dog. We can give `Tensy` photos of cats and tell him it is cat and photos of dogs and tell him it is a dog until he learns to tell a cat from a dog. I can later test him on a new photo he has never seen before and see how accurate he is.\n",
    "\n",
    "![CatsDogs!](images/CatsDogs.png)\n",
    "\n",
    "## Regression\n",
    "\n",
    "Regression is used to teach a model to output a continuous numerical value based on a data point. Like telling the age of a person based on their photo.\n",
    "\n",
    "This time we are teaching `Tensy` to tell the age of a person based on their photo. To do that we will give him a large amount of photos and tell him the age of each person. We can later test him by asking the age of people in new photos that he didn't see before.\n",
    "\n",
    "![CatsDogs!](images/age.png)"
   ]
  },
  {
   "cell_type": "markdown",
   "metadata": {},
   "source": [
    "# Unsupervoised Learning (UL)\n",
    "\n",
    "Unsupervised Learning uses an algorithm to build a model that can produce an output based on a data point without teaching the model the output. Like giving a model photos taken outdoor and photos taken indoor and have an algorithm tell which is which without labeling them. There are many problems that can be solved using UL but the most common ones are:\n",
    "\n",
    "## Clustering\n",
    "\n",
    "Clustering is grouping similar data points into groups or clusters. different algorithms can find similarities in different ways and can end up clustering your data points into different groups.\n",
    "\n",
    "This time we gave `Tensy` a group if photos and we asked him to sort it into two groups. He is finding that all indoor photos are similar and all out door photos are similar.\n",
    "\n",
    "![CatsDogs!](images/outdoorindoor.png)\n",
    "\n",
    "- Anomaly Detection\n",
    "- Generative adversarial networks (GANs)"
   ]
  },
  {
   "cell_type": "markdown",
   "metadata": {},
   "source": [
    "# Reinforcement Learning (RL)\n",
    "\n",
    "Reinforcement Learning  uses an algorithm to teach a model to produce a desired output based on some input by rewarding good output and punishing bad output. This might be similar to how you would teach a child or even train an animal to perform the desired actions.\n",
    "\n",
    "These algorithms are used to teach a model to find the optimal way of performing some task without teaching the model how to perform it optimally. Instead you would give a positive reward for good outcome based on some metric to reward better outcome with higher reward. On the other hand, you will give negative reward for bad based outcome on the same metric to punish worse outcome with lower reward.\n",
    "\n",
    "So let's teach `Tensy` to play some Atari games. We will give a screen frame of the game to him and allow him to choose one action (right, left, up, down and press action button). That action might lead to increased score if it is a good action or to no increase score if it is a nuetral action or to loosing a life and lower score for a bad action.\n",
    "\n",
    "![CatsDogs!](images/atari.png)"
   ]
  },
  {
   "cell_type": "markdown",
   "metadata": {},
   "source": [
    "# Machine Learning is More That!\n",
    "\n",
    "These major categories are not inclusive of every algorithms that you might use where some evolutionary algorithms, or recommendation systems do not fall under any of these categories. Some more complicated algorithms use multiple stages in a pipeline some with supervised and unsupervised so your end-to-end algorithm might also not fall under any specific category."
   ]
  },
  {
   "cell_type": "markdown",
   "metadata": {},
   "source": [
    "\n",
    "# The Math Behind It\n",
    "\n",
    "This section will explain some mathematical concepts at the end of each tutorial. These tutorials are usually code intensive and that will help you develop your coding skills and get model working. But what if it doesn't work?\n",
    "\n",
    "The math behind these algorithms use Linear Algebra, Tensor Calculus and Statistics. This section in each tutorial will explain the math behind the algorithms that we discussed and will assume very little to no math background and will explain things from the ground up. By the end of each tutorial you should be familiar with the math behind machine learning concepts discussed in the tutorial. This could help you fix your model and even improve accuracy.\n",
    "\n",
    "Finally, It will serve as a bidge between machine learning concepts and centuries of mathimatical reasearch. Understanding the math behind it will open the door for you to explore some of the latest academic research papers in the field due to the fact that they mostly look like this:\n",
    "\n",
    "![CatsDogs!](images/svm.png)\n",
    " <center>A small section of \"[A Training Algorithm for Optimal Margin Classiers](http://citeseerx.ist.psu.edu/viewdoc/download?doi=10.1.1.21.3818&rep=rep1&type=pdf)\" By Boser, Guyon & Vapnik published 1992. AKA the original SVM paper</center>\n",
    " \n",
    " So to kick of this part I'll start with a few simple concepts:\n",
    " \n",
    " ## The real numbers $\\mathbb{R}$\n",
    " \n",
    " The real numbers include positive, nagative numbers and zero. They can be of arbitrary precesion meaning they can have any number of decimal points. The set of all real numbers have a standard mathimatical symbol $\\mathbb{R}$. The real numbers can include numbers with infinite precision like:\n",
    "\n",
    "- $\\frac{1}{3} = 0.3333\\overline3$\n",
    "- $\\pi = 3.14159 ...$ (Pi) this is small letter Pi\n",
    "- $e = 2.71828 ...$ (Euler's Number)\n",
    "\n",
    "Simple? let's push it a little more :)\n",
    "\n",
    "## Sum $\\sum$\n",
    "\n",
    "To represent a finite sum of numbers in math, you can use the following:\n",
    "\n",
    "$$ 1 + 2 + 3 + 4 + 5 $$\n",
    "\n",
    "For longer sums like getting the sum of all numbers from 1 to 1000 can be harder to write in that way. We use capital letter Sigma $\\Sigma$. To rewite the previous sum from 1 to 5, we can write it this way:\n",
    "\n",
    "$$\\sum_{n=1}^{5} n$$\n",
    "\n",
    "This can facilitate writing more complex sums like:\n",
    "\n",
    "$$f(x) = x + 2x + 3x + 4x + 5x = \\sum_{n=1}^{5}nx$$\n",
    "\n",
    "With this notation we can even represent an infinite sum of numbers:\n",
    "\n",
    "$$\\frac{1}{1} + \\frac{1}{2} + \\frac{1}{4} + \\frac{1}{8} + \\frac{1}{16} ... = \\sum_{n=0}^{\\infty} \\frac{1}{2^n} = 2$$\n",
    "\n",
    "## Product $\\Pi$\n",
    "\n",
    "To represent a finite sum of numbers in math, you can use the following:\n",
    "\n",
    "$$ 1 \\times 2 \\times 3 \\times 4 \\times 5 $$\n",
    "\n",
    "For longer products like getting the products of all numbers from 1 to 1000 can be harder to write in that way. We use capital letter Pi $\\Pi$. To rewite the previous product from 1 to 5, we can write it this way:\n",
    "\n",
    "$$\\prod_{n=1}^{5} n$$\n",
    "\n",
    "> NOTE: It should also be noted that the previous product can also be written as $5!$ which is called 5 factorial.\n",
    "\n",
    "This can facilitate writing more complex products like:\n",
    "\n",
    "$$f(x) = x \\times 2x \\times 3x \\times 4x \\times 5x = \\prod_{n=1}^{5}nx$$"
   ]
  },
  {
   "cell_type": "markdown",
   "metadata": {},
   "source": [
    "<center>This work in <b>open sourced</b> and licensed under GNU General Public License v2.0<br />\n",
    "\n",
    "Copyright © 2018 Abdullah Alrasheed and other contributes<br /><br />Roshan Logo is not open sourced and is not covered by the GNU license</center>"
   ]
  }
 ],
 "metadata": {
  "kernelspec": {
   "display_name": "Python 3",
   "language": "python",
   "name": "python3"
  },
  "language_info": {
   "codemirror_mode": {
    "name": "ipython",
    "version": 3
   },
   "file_extension": ".py",
   "mimetype": "text/x-python",
   "name": "python",
   "nbconvert_exporter": "python",
   "pygments_lexer": "ipython3",
   "version": "3.5.2"
  }
 },
 "nbformat": 4,
 "nbformat_minor": 2
}
