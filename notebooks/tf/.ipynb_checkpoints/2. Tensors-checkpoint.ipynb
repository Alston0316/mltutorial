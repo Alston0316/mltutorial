{
 "cells": [
  {
   "cell_type": "markdown",
   "metadata": {},
   "source": [
    "<table>\n",
    "    <tr>\n",
    "        <td style=\"text-align:left;\"><div style=\"font-family: monospace; font-size: 2em; display: inline-block; width:60%\">2. Tensors</div><img src=\"images/roshan.png\" style=\"width:30%; display: inline; text-align: left; float:right;\"></td>\n",
    "        <td></td>\n",
    "    </tr>\n",
    "</table>"
   ]
  },
  {
   "cell_type": "markdown",
   "metadata": {},
   "source": [
    "Before we go into tensors and programming in TensorFlow, let's take a look at how does it work.\n",
    "\n",
    "# TensorFlow Basics\n",
    "\n",
    "TensorFlow has a few concepts that you should be familiar with. TensorFlow executes your code inside a execution engine that you communicate with using an API. In TensorFlow your data is called a `Tensor` that you can apply operations (`OP`) to. Your code is converted into a `Graph` that is executed in an execution engine called a `Session`. So your python code is just a representation of your graph that can be executed in a session.\n",
    "\n",
    "![](images/graph.png)\n",
    "\n",
    "You can see how your data (or tensors) flow from one operation to the next, hens the name TensorFlow.\n",
    "\n",
    "Since version 1.5 and as of version 1.8 there are two methods to execute code in TensorFlow:\n",
    "\n",
    "- Graph Execution\n",
    "- Eager Execution\n",
    "\n",
    "The main difference is in graph execution is a type of `declarative programming` and eager execution is a type of `imperative programming`. In plain English, the difference is graph execution defines your code as a graph and executes in a session. Your objects in python are not the actual objects inside the session, they are only a reference to them. Eager execution executes your code as you run it giving you a better control of your program while it is running so you are not stuck with a predefined graph.\n",
    "\n",
    "## So why do we even bother with graph execution?\n",
    "\n",
    "Performance is a big issue in machine learning and a small difference in execution time can save you in a long project weeks of your time and 1000s of hours of GPU time. Support is another issue for now where some features of TensorFlow do not work in Eager Execution like high level estimators.\n",
    "\n",
    "We will focus in the following tutorials only on graph execution and we will cover eager execution later in this series.\n",
    "\n",
    "# Tensors\n",
    "\n",
    "Tensors can be though of a scalar variable or an array of any dimension. Tensors are the main object to store pass data, sore variables and constants and all operations that take in data take it in tensor format and all operations that output data uses the tensor format for that too.\n",
    "\n",
    "## Tensor Shape and Rank\n",
    "\n",
    "Tensors have a rank and a shape so for scalar values, we use rank-0 tensors of a shape `()` which is an empty shape\n",
    "\n",
    "Assuming we need a variable or a constant number to use in our software, we can represent it as a tensor of rank-0.\n",
    "\n",
    "![](images/rank-0.png)\n",
    "\n",
    "A rank-1 tensor can be though of as an __vector__ or a one dimensional array. To create a rank-1 tensor with shape `(3)` this will create a tensor that can hold three values in a single dimensional array.\n",
    "\n",
    "![](images/rank-1.png)\n",
    "\n",
    "\n",
    "A rank-2 is a __matrix__ or a two dimensional array. This can be used to hold two dimensional data like a black and white image. The shape of the tensor can match the shape of the image so to hold a 256x256 pixel image in a tensor, you can create a rank-2 tensor of shape `(256,256)`.\n",
    "\n",
    "![](images/rank-2.png)\n",
    "\n",
    "\n",
    "A rank-3 tensor is a three dimensional array. To can be used to hold three dimensional data like a color image represented in (RGB). To create a tensor to hold an color image of size 256x256, you can create a rank-3 tensor of shape `(256,256,3)`.\n",
    "\n",
    "![](images/rank-3.png)\n",
    "\n",
    "\n",
    "TensorFlow allows tensors in higher dimensions but you will very rarely see tensors of a rank exceeding 5 of shape `(batch size, width, height, RGB, frames)` for representing a batch of video clips.\n",
    "\n",
    "## Importing Tensor Flow\n",
    "\n",
    "Let's import TensorFlow and start working with some tensors."
   ]
  },
  {
   "cell_type": "code",
   "execution_count": 1,
   "metadata": {},
   "outputs": [
    {
     "name": "stdout",
     "output_type": "stream",
     "text": [
      "Python Version: 3.5.2\n",
      "TensorFlow Version: 1.8.0\n"
     ]
    }
   ],
   "source": [
    "import tensorflow as tf\n",
    "import sys\n",
    "\n",
    "print(\"Python Version:\",sys.version.split(\" \")[0])\n",
    "print(\"TensorFlow Version:\",tf.VERSION)"
   ]
  },
  {
   "cell_type": "markdown",
   "metadata": {},
   "source": [
    "# Graph Execution\n",
    "\n",
    "TensorFlow executes your code inside a C++ program and returns the results through the TensorFlow API. Since we are using Python, we will be using TensorFlow Python API which is the most documented and most used API of TensorFlow.\n",
    "\n",
    "Sice we are using graph execution, there are two ways to create a session:\n",
    "\n",
    "- Session\n",
    "- Interactive Session\n",
    "\n",
    "Sessions and interactive sessions, use your code to build a \"Graph\" which is a representation of your code inside TensorFlow's execution engine. The main difference between them is interactive session makes itself the default session so since we are using only one session for our code, we will use that.\n",
    "\n",
    "For now let's start an interactive session and start flowing some tensors!"
   ]
  },
  {
   "cell_type": "code",
   "execution_count": 2,
   "metadata": {},
   "outputs": [],
   "source": [
    "sess = tf.InteractiveSession()"
   ]
  },
  {
   "cell_type": "markdown",
   "metadata": {},
   "source": [
    "# Generating new Tensors\n",
    "\n",
    "Since we have an interactive session, let's create a tensor. There are two common ways to create a tensor `tf.zeros()` and `tf.ones()`. Each one of them takes a python tuple or an array as the shape of the tensor.\n",
    "\n",
    "Let's start be creating a rank-0 tensor."
   ]
  },
  {
   "cell_type": "code",
   "execution_count": 7,
   "metadata": {},
   "outputs": [],
   "source": [
    "a = tf.zeros(())"
   ]
  },
  {
   "cell_type": "markdown",
   "metadata": {},
   "source": [
    "We create a tensor and assigned it to a local variable named `a`. When we check the value of `a` this is what we get."
   ]
  },
  {
   "cell_type": "code",
   "execution_count": 8,
   "metadata": {},
   "outputs": [
    {
     "data": {
      "text/plain": [
       "<tf.Tensor 'zeros_1:0' shape=() dtype=float32>"
      ]
     },
     "execution_count": 8,
     "metadata": {},
     "output_type": "execute_result"
    }
   ],
   "source": [
    "a"
   ]
  },
  {
   "cell_type": "markdown",
   "metadata": {},
   "source": [
    "Notice there is no value. You need to call `eval()` method of the tensor to get the actual value. This method takes an optional parameter where you can pass your session. Since we are using interactive session, we have a default one so we don't need to pass a session."
   ]
  },
  {
   "cell_type": "code",
   "execution_count": 5,
   "metadata": {},
   "outputs": [
    {
     "data": {
      "text/plain": [
       "0.0"
      ]
     },
     "execution_count": 5,
     "metadata": {},
     "output_type": "execute_result"
    }
   ],
   "source": [
    "a.eval()"
   ]
  },
  {
   "cell_type": "markdown",
   "metadata": {},
   "source": [
    "You should know that `eval()` method returns a numpy.float32 (or what ever the type of the tensor is) if the rank of the tensor is 0 and numpy.ndarray if the tensor of rank 1 or higher. Numpy is a multi-dimensional array library for python that runs the operations in a C program and interfaces back with python to ensure fast array operations.\n",
    "\n",
    "We can also check the rank and shape of the tensor."
   ]
  },
  {
   "cell_type": "code",
   "execution_count": 6,
   "metadata": {},
   "outputs": [
    {
     "data": {
      "text/plain": [
       "TensorShape([])"
      ]
     },
     "execution_count": 6,
     "metadata": {},
     "output_type": "execute_result"
    }
   ],
   "source": [
    "a.shape"
   ]
  },
  {
   "cell_type": "markdown",
   "metadata": {},
   "source": [
    "the rank would be the number of dimensions."
   ]
  },
  {
   "cell_type": "code",
   "execution_count": 7,
   "metadata": {},
   "outputs": [
    {
     "data": {
      "text/plain": [
       "0"
      ]
     },
     "execution_count": 7,
     "metadata": {},
     "output_type": "execute_result"
    }
   ],
   "source": [
    "a.shape.ndims"
   ]
  },
  {
   "cell_type": "markdown",
   "metadata": {},
   "source": [
    "Notice the name inside the TensorFlow execution engine is not `a`. It is `zeros:0` which is an auto generated name for the variable. The auto generated name is the name of the operation that generated the tensor and then an the index of the of the tensor in the output of the operation."
   ]
  },
  {
   "cell_type": "code",
   "execution_count": 9,
   "metadata": {},
   "outputs": [
    {
     "data": {
      "text/plain": [
       "'zeros_1:0'"
      ]
     },
     "execution_count": 9,
     "metadata": {},
     "output_type": "execute_result"
    }
   ],
   "source": [
    "a.name"
   ]
  },
  {
   "cell_type": "markdown",
   "metadata": {},
   "source": [
    "If you created another variable using the name operation, it will be named `zeros_1:0`."
   ]
  },
  {
   "cell_type": "code",
   "execution_count": 10,
   "metadata": {},
   "outputs": [
    {
     "data": {
      "text/plain": [
       "<tf.Tensor 'zeros_2:0' shape=() dtype=float32>"
      ]
     },
     "execution_count": 10,
     "metadata": {},
     "output_type": "execute_result"
    }
   ],
   "source": [
    "tf.zeros(())"
   ]
  },
  {
   "cell_type": "markdown",
   "metadata": {},
   "source": [
    "Now let's create a second tensor of shape (3) which is going to be a rank-1 tensor. This time we will name it `b` and store it in a local variable named `b`."
   ]
  },
  {
   "cell_type": "code",
   "execution_count": 9,
   "metadata": {},
   "outputs": [
    {
     "data": {
      "text/plain": [
       "<tf.Tensor 'b:0' shape=(3,) dtype=float32>"
      ]
     },
     "execution_count": 9,
     "metadata": {},
     "output_type": "execute_result"
    }
   ],
   "source": [
    "b = tf.zeros((3), name=\"b\")\n",
    "b"
   ]
  },
  {
   "cell_type": "markdown",
   "metadata": {},
   "source": [
    "Notice the name of the variable now is `b:0` which is the name that we gave it and an auto incrementing index. We can also get the value in the same way using `eval()` method."
   ]
  },
  {
   "cell_type": "code",
   "execution_count": 10,
   "metadata": {},
   "outputs": [
    {
     "data": {
      "text/plain": [
       "numpy.ndarray"
      ]
     },
     "execution_count": 10,
     "metadata": {},
     "output_type": "execute_result"
    }
   ],
   "source": [
    "type(b.eval())"
   ]
  },
  {
   "cell_type": "markdown",
   "metadata": {},
   "source": [
    "You can also get the value of a tensor by executing the tensor using your interactive session."
   ]
  },
  {
   "cell_type": "code",
   "execution_count": 11,
   "metadata": {},
   "outputs": [
    {
     "data": {
      "text/plain": [
       "array([0., 0., 0.], dtype=float32)"
      ]
     },
     "execution_count": 11,
     "metadata": {},
     "output_type": "execute_result"
    }
   ],
   "source": [
    "sess.run(b)"
   ]
  },
  {
   "cell_type": "markdown",
   "metadata": {},
   "source": [
    "You can also fill the tensor with any other value you want other than 0 and 1 using `fill()` function."
   ]
  },
  {
   "cell_type": "code",
   "execution_count": 12,
   "metadata": {},
   "outputs": [
    {
     "data": {
      "text/plain": [
       "array([[5, 5],\n",
       "       [5, 5]], dtype=int32)"
      ]
     },
     "execution_count": 12,
     "metadata": {},
     "output_type": "execute_result"
    }
   ],
   "source": [
    "tf.fill((2,2), 5).eval()"
   ]
  },
  {
   "cell_type": "markdown",
   "metadata": {},
   "source": [
    "Notice that the data type of this tensor is `int32` and not `float32` because you initialized the tensor with an integer `5` and not `5.0`.\n",
    "\n",
    "## Tensor Shape\n",
    "\n",
    "For multi dimensional tensors, the shape is passed as a tuple or an array. The way this array is arranged is from the outer most dimension to the inner dimensions. So for a tensor that should represents 10 items and each item has three numbers, the shape would be `(10,3)`."
   ]
  },
  {
   "cell_type": "code",
   "execution_count": 15,
   "metadata": {},
   "outputs": [
    {
     "data": {
      "text/plain": [
       "array([[0., 0., 0.],\n",
       "       [0., 0., 0.],\n",
       "       [0., 0., 0.],\n",
       "       [0., 0., 0.],\n",
       "       [0., 0., 0.],\n",
       "       [0., 0., 0.],\n",
       "       [0., 0., 0.],\n",
       "       [0., 0., 0.],\n",
       "       [0., 0., 0.],\n",
       "       [0., 0., 0.]], dtype=float32)"
      ]
     },
     "execution_count": 15,
     "metadata": {},
     "output_type": "execute_result"
    }
   ],
   "source": [
    "tf.zeros((10,3)).eval()"
   ]
  },
  {
   "cell_type": "markdown",
   "metadata": {},
   "source": [
    "For higher dimensions the same rules applies. Let say we have 2 items and each item has 3 parts and each on of these parts consists of 4 numbers the shape would be `(2,3,4)`"
   ]
  },
  {
   "cell_type": "code",
   "execution_count": 5,
   "metadata": {},
   "outputs": [
    {
     "data": {
      "text/plain": [
       "array([[[0., 0., 0., 0.],\n",
       "        [0., 0., 0., 0.],\n",
       "        [0., 0., 0., 0.]],\n",
       "\n",
       "       [[0., 0., 0., 0.],\n",
       "        [0., 0., 0., 0.],\n",
       "        [0., 0., 0., 0.]]], dtype=float32)"
      ]
     },
     "execution_count": 5,
     "metadata": {},
     "output_type": "execute_result"
    }
   ],
   "source": [
    "tf.zeros((2,3,4)).eval()"
   ]
  },
  {
   "cell_type": "markdown",
   "metadata": {},
   "source": [
    "__Note__: This is the opposite of the how matrix shape notation is written in mathematics. A matrix of shape $A_{(3,10)}$ can be represented in TensorFlow as `(10,3)`. The reason for that is in mathematics the shape is $(Columns,Rows)$ and TensorFlow uses `(Outer,Inner)` which translates in 2-D tensor as `(Rows,Columns)`.\n",
    "\n",
    "## Generating Tensors with Random Values\n",
    "\n",
    "In many cases, you want to generate a new tensor but we want to start with random values stored in the tensor. The way we do that is using one the random generator of TensorFlow.\n",
    "\n",
    "### Normal Distribution\n",
    "\n",
    "`tf.random_normal(shape, mean=0.0, stddev=1.0, dtype=tf.float32, seed=None, name=None)`"
   ]
  },
  {
   "cell_type": "code",
   "execution_count": 20,
   "metadata": {},
   "outputs": [
    {
     "data": {
      "text/plain": [
       "<tf.Tensor 'random_normal_3:0' shape=(1000,) dtype=float32>"
      ]
     },
     "execution_count": 20,
     "metadata": {},
     "output_type": "execute_result"
    }
   ],
   "source": [
    "arr1 = tf.random_normal((1000,))\n",
    "arr1"
   ]
  },
  {
   "cell_type": "markdown",
   "metadata": {},
   "source": [
    "This function returns random values using normal distribution which is also known as Gaussian distribution or informally called a \"Bell Curve\". To better understand it, let's first look at a graph showing this distribution. Normal distribution of of mean $\\mu$ and standard deviation $\\sigma$ is denoted $N(\\mu, \\sigma)$ (More about that in \"The Math Behind It\").\n",
    "\n",
    "To do that we will import Matplotlib which is a very common charting library for Python."
   ]
  },
  {
   "cell_type": "code",
   "execution_count": 21,
   "metadata": {},
   "outputs": [],
   "source": [
    "import matplotlib.pyplot as plt\n",
    "\n",
    "%matplotlib inline"
   ]
  },
  {
   "cell_type": "code",
   "execution_count": 39,
   "metadata": {},
   "outputs": [
    {
     "data": {
      "image/png": "[encoded data removed]",
      "text/plain": [
       "<Figure size 432x288 with 1 Axes>"
      ]
     },
     "metadata": {},
     "output_type": "display_data"
    }
   ],
   "source": [
    "plt.hist(arr1.eval(), bins=15);"
   ]
  },
  {
   "cell_type": "markdown",
   "metadata": {},
   "source": [
    "Notice the bill shape of the curve where you get more values values around your mean a few an values as you move away from the mean. You can also change the mean."
   ]
  },
  {
   "cell_type": "code",
   "execution_count": 38,
   "metadata": {},
   "outputs": [
    {
     "data": {
      "image/png": "[encoded data removed]",
      "text/plain": [
       "<Figure size 432x288 with 1 Axes>"
      ]
     },
     "metadata": {},
     "output_type": "display_data"
    }
   ],
   "source": [
    "arr1 = tf.random_normal((1000,), mean=20.0)\n",
    "\n",
    "plt.hist(arr1.eval(), bins=15);"
   ]
  },
  {
   "cell_type": "markdown",
   "metadata": {},
   "source": [
    "You can also control how much of concentrated your random numbers will be around the mean by controlling the standard deviation. Higher standard deviation means less values around the mean and wider distribution."
   ]
  },
  {
   "cell_type": "code",
   "execution_count": 32,
   "metadata": {},
   "outputs": [
    {
     "data": {
      "image/png": "[encoded data removed]",
      "text/plain": [
       "<Figure size 432x288 with 1 Axes>"
      ]
     },
     "metadata": {},
     "output_type": "display_data"
    }
   ],
   "source": [
    "arr1 = tf.random_normal((1000,), stddev=2, name=\"arr1\")\n",
    "arr2 = tf.random_normal((1000,), stddev=1, name=\"arr2\")\n",
    "\n",
    "plt.hist([arr1.eval(), arr2.eval()], bins=15);"
   ]
  },
  {
   "cell_type": "markdown",
   "metadata": {},
   "source": [
    "One more note on normal distribution, if you created a large tensor with millions or tens of millions of random values, some of these values will fall really far from the normal. With some machine learning algorithms this might create instability. You can avoid that by using `truncated_normal()` function instead of `random_normal()`. This will re-sample any values that falls more than 2 standard deviations from the mean."
   ]
  },
  {
   "cell_type": "code",
   "execution_count": 37,
   "metadata": {},
   "outputs": [
    {
     "data": {
      "image/png": "[encoded data removed]",
      "text/plain": [
       "<Figure size 432x288 with 1 Axes>"
      ]
     },
     "metadata": {},
     "output_type": "display_data"
    }
   ],
   "source": [
    "plt.hist(tf.truncated_normal((1000,)).eval(), bins=15);"
   ]
  },
  {
   "cell_type": "markdown",
   "metadata": {},
   "source": [
    "### Uniform Distribution\n",
    "\n",
    "The other common distribution will the uniform one. This will generate values with equal probability of falling anywhere between two numbers.\n",
    "\n",
    "`tf.random_uniform(shape, minval=0, maxval=None, dtype=tf.float32, seed=None, name=None)`"
   ]
  },
  {
   "cell_type": "code",
   "execution_count": 34,
   "metadata": {},
   "outputs": [
    {
     "data": {
      "image/png": "[encoded data removed]",
      "text/plain": [
       "<Figure size 432x288 with 1 Axes>"
      ]
     },
     "metadata": {},
     "output_type": "display_data"
    }
   ],
   "source": [
    "arr1 = tf.random_uniform((1000,))\n",
    "plt.hist(arr1.eval(), bins=15);"
   ]
  },
  {
   "cell_type": "markdown",
   "metadata": {},
   "source": [
    "## Generating Tensors with Sequence Values\n",
    "\n",
    "You can generate tensors with sequence values using the following function:\n",
    "\n",
    "`tf.range(start, limit=None, delta=1, dtype=None, name='range')`"
   ]
  },
  {
   "cell_type": "code",
   "execution_count": 40,
   "metadata": {},
   "outputs": [
    {
     "data": {
      "text/plain": [
       "array([0, 1, 2, 3, 4], dtype=int32)"
      ]
     },
     "execution_count": 40,
     "metadata": {},
     "output_type": "execute_result"
    }
   ],
   "source": [
    "tf.range(5).eval()"
   ]
  },
  {
   "cell_type": "markdown",
   "metadata": {},
   "source": [
    "Which is equivalent to:"
   ]
  },
  {
   "cell_type": "code",
   "execution_count": 41,
   "metadata": {},
   "outputs": [
    {
     "data": {
      "text/plain": [
       "array([0, 1, 2, 3, 4], dtype=int32)"
      ]
     },
     "execution_count": 41,
     "metadata": {},
     "output_type": "execute_result"
    }
   ],
   "source": [
    "tf.range(0, 5).eval()"
   ]
  },
  {
   "cell_type": "markdown",
   "metadata": {},
   "source": [
    "Notice that the output of `range()` function will never reach the limit parameter.\n",
    "\n",
    "You can also control the delta which is the spacing between the tensor elements."
   ]
  },
  {
   "cell_type": "code",
   "execution_count": 42,
   "metadata": {},
   "outputs": [
    {
     "data": {
      "text/plain": [
       "array([0, 2, 4], dtype=int32)"
      ]
     },
     "execution_count": 42,
     "metadata": {},
     "output_type": "execute_result"
    }
   ],
   "source": [
    "tf.range(0, 5, 2).eval()"
   ]
  },
  {
   "cell_type": "markdown",
   "metadata": {},
   "source": [
    "## Reshaping Tensors\n",
    "\n",
    "You can reshape tensors using this function:\n",
    "\n",
    "`tf.reshape(tensor, shape, name=None)`"
   ]
  },
  {
   "cell_type": "code",
   "execution_count": 43,
   "metadata": {},
   "outputs": [
    {
     "data": {
      "text/plain": [
       "array([[0, 1],\n",
       "       [2, 3],\n",
       "       [4, 5]], dtype=int32)"
      ]
     },
     "execution_count": 43,
     "metadata": {},
     "output_type": "execute_result"
    }
   ],
   "source": [
    "a = tf.range(6)\n",
    "tf.reshape(a, (3,2)).eval()"
   ]
  },
  {
   "cell_type": "markdown",
   "metadata": {},
   "source": [
    "# Tensor Arithmetics\n",
    "\n",
    "You can use standard python arithmetics on tensors and get results in a new tensor.\n",
    "\n",
    "## Addition"
   ]
  },
  {
   "cell_type": "code",
   "execution_count": 44,
   "metadata": {},
   "outputs": [
    {
     "data": {
      "text/plain": [
       "array([[11., 11.],\n",
       "       [11., 11.]], dtype=float32)"
      ]
     },
     "execution_count": 44,
     "metadata": {},
     "output_type": "execute_result"
    }
   ],
   "source": [
    "a = tf.ones((2,2))\n",
    "b = tf.fill((2,2), 10.0) # Notice we used 10.0 and not 10 to ensure the data type will be float32\n",
    "\n",
    "c = a + b\n",
    "c.eval()"
   ]
  },
  {
   "cell_type": "markdown",
   "metadata": {},
   "source": [
    "## Element-wise Operations"
   ]
  },
  {
   "cell_type": "code",
   "execution_count": 45,
   "metadata": {},
   "outputs": [
    {
     "data": {
      "text/plain": [
       "array([[22., 22.],\n",
       "       [22., 22.]], dtype=float32)"
      ]
     },
     "execution_count": 45,
     "metadata": {},
     "output_type": "execute_result"
    }
   ],
   "source": [
    "d = c * 2.0\n",
    "d.eval()"
   ]
  },
  {
   "cell_type": "code",
   "execution_count": 46,
   "metadata": {},
   "outputs": [
    {
     "data": {
      "text/plain": [
       "array([[25., 25.],\n",
       "       [25., 25.]], dtype=float32)"
      ]
     },
     "execution_count": 46,
     "metadata": {},
     "output_type": "execute_result"
    }
   ],
   "source": [
    "(d + 3).eval()"
   ]
  },
  {
   "cell_type": "markdown",
   "metadata": {},
   "source": [
    "## Matrix Operations\n",
    "\n",
    "TensorFlow support a variety of matrix operations.\n",
    "\n",
    "### Identity Matrix\n",
    "\n",
    "An identity matrix is a 2 dimensional matrix where all the values are zeros exception diagonally where it has values of 1. This is an example of an identity matrix of shape (3,3).\n",
    "\n",
    "$$\\begin{bmatrix}\n",
    "{1} & {0} & {0} \\\\\n",
    "{0} & {1} & {0} \\\\\n",
    "{0} & {0} & {1} \\\\\n",
    "\\end{bmatrix}$$\n",
    "\n",
    "To do that in TensorFlow use the `tf.eye()` function."
   ]
  },
  {
   "cell_type": "code",
   "execution_count": 47,
   "metadata": {},
   "outputs": [
    {
     "data": {
      "text/plain": [
       "array([[1., 0., 0.],\n",
       "       [0., 1., 0.],\n",
       "       [0., 0., 1.]], dtype=float32)"
      ]
     },
     "execution_count": 47,
     "metadata": {},
     "output_type": "execute_result"
    }
   ],
   "source": [
    "i = tf.eye(3,3)\n",
    "i.eval()"
   ]
  },
  {
   "cell_type": "markdown",
   "metadata": {},
   "source": [
    "### Transpose\n",
    "\n",
    "Transpose is another operation that is commonly used in matrix calculations. Transpose converts rows to columns. Assume you have a matrix $\\mathbf{A}$, a transpose operation over this matrix produces $\\mathbf{A^T}$ pronounced _transpose of $\\mathbf{A}$_."
   ]
  },
  {
   "cell_type": "code",
   "execution_count": 48,
   "metadata": {},
   "outputs": [
    {
     "data": {
      "text/plain": [
       "array([[1, 2, 3, 4],\n",
       "       [5, 6, 7, 8]], dtype=int32)"
      ]
     },
     "execution_count": 48,
     "metadata": {},
     "output_type": "execute_result"
    }
   ],
   "source": [
    "a = tf.range(1,9)\n",
    "i = tf.reshape(a, (2,4))\n",
    "i.eval()"
   ]
  },
  {
   "cell_type": "code",
   "execution_count": 49,
   "metadata": {},
   "outputs": [
    {
     "data": {
      "text/plain": [
       "array([[1, 5],\n",
       "       [2, 6],\n",
       "       [3, 7],\n",
       "       [4, 8]], dtype=int32)"
      ]
     },
     "execution_count": 49,
     "metadata": {},
     "output_type": "execute_result"
    }
   ],
   "source": [
    "it = tf.matrix_transpose(i)\n",
    "it.eval()"
   ]
  },
  {
   "cell_type": "markdown",
   "metadata": {},
   "source": [
    "### Matrix Multiplication\n",
    "\n",
    "One of the most common operations for matrices in deep learning in matrix multiplication. Matrix multiplication is not an element-wise operation. The exact math will be discussed in the last section of this tutorial \"The Math Behind It\". But for now to give you the basics you should know the following:\n",
    "\n",
    "Assume we have two matrices $\\mathbf{A}$ and $\\mathbf{B}$. The shape of $\\mathbf{A}$ is (m,n) and the shape of $\\mathbf{B}$ is (o,p) we can write these two matrices with their shape as $\\mathbf{A}_{(m,n)}$ and $\\mathbf{B}_{(o,p)}$. Multiplying these two matrices produces a matrix of the shape (m,p) __IF__ $n=o$ like this:\n",
    "\n",
    "$\\mathbf{A}_{(m,n)} \\mathbf{B}_{(o,p)}=\\mathbf{C}_{(m,p)} \\leftarrow n=o$\n",
    "\n",
    "Notice the inner shape of these two matrices is the same and the output matrix has the shape of the outer shape of it these two matrices. If the inner shape of the matrices does not match the product doesn’t exist.\n",
    "\n",
    "We can use `tf.matmul()` function to do that."
   ]
  },
  {
   "cell_type": "code",
   "execution_count": 50,
   "metadata": {},
   "outputs": [
    {
     "name": "stdout",
     "output_type": "stream",
     "text": [
      "c has the shape of: (2, 4)\n"
     ]
    },
    {
     "data": {
      "text/plain": [
       "array([[3., 3., 3., 3.],\n",
       "       [3., 3., 3., 3.]], dtype=float32)"
      ]
     },
     "execution_count": 50,
     "metadata": {},
     "output_type": "execute_result"
    }
   ],
   "source": [
    "a = tf.ones((2,3))\n",
    "b = tf.ones((3,4))\n",
    "\n",
    "c = tf.matmul(a ,b)\n",
    "\n",
    "print(\"c has the shape of:\", c.shape)\n",
    "c.eval()"
   ]
  },
  {
   "cell_type": "markdown",
   "metadata": {},
   "source": [
    "# The Math Behind It\n",
    "\n",
    "## Standard Deviation $\\sigma$ or $s$\n",
    "\n",
    "Standard deviation is the measure of how elements in a set vary from the mean. So a sample with most data points close to the mean has low standard deviation and it gets higher as the data points start moving away from the mean. In statistics, standard deviation is denoted as the small letter sigma $\\sigma$.\n",
    "\n",
    "The formula to calculate standard deviation for a whole population is:\n",
    "\n",
    "$$\\sigma={\\sqrt {\\frac {\\sum_{i=1}^N(x_{i}-{\\overline {x}})^{2}}{N}}}$$\n",
    "\n",
    "Let's break it down and see how to calculate standard deviation.\n",
    "\n",
    "Assume we have exam grades of 10 students and the grades are so follow:\n",
    "\n",
    "| ID    | Grade  |\n",
    "| ----- |:------:|\n",
    "| 1     |  88    |\n",
    "| 2     |  94    |\n",
    "| 3     |  71    |\n",
    "| 4     |  97    |\n",
    "| 5     |  84    |\n",
    "| 6     |  82    |\n",
    "| 7     |  80    |\n",
    "| 8     |  98    |\n",
    "| 9     |  91    |\n",
    "| 10    |  93    |\n",
    "\n",
    "First thing we need to do is calculate the mean. The mean is denoted as $\\overline {x}$ (_pronouned \"x bar\"_). To calculate the mean (AKA average) get the sum all numbers and divide it by their count. It is also commonly denoted as a small letter mu $\\mu$. Assume you have $N$ values, this will be the formula to calculate the mean:\n",
    "\n",
    "$$\\overline {x} = \\frac{x_1 + x_2 + ... + x_N}{N} = \\frac{\\sum_{i=1}^N x_i}{N}$$\n",
    "\n",
    "So let's calculate that."
   ]
  },
  {
   "cell_type": "code",
   "execution_count": 51,
   "metadata": {},
   "outputs": [
    {
     "data": {
      "text/plain": [
       "87.8"
      ]
     },
     "execution_count": 51,
     "metadata": {},
     "output_type": "execute_result"
    }
   ],
   "source": [
    "g = [88, 94, 71, 97, 84, 82, 80, 98, 91, 93]\n",
    "\n",
    "total = sum(g)\n",
    "count = len(g)\n",
    "\n",
    "mean = total/count\n",
    "mean"
   ]
  },
  {
   "cell_type": "markdown",
   "metadata": {},
   "source": [
    "Now that we know the mean, we can go back to the original equation and calculate the standard deviation. For that we will do it with loop comprehension (One of the greatest features of python).\n",
    "\n",
    "So looking at the equation one more:\n",
    "\n",
    "$$\\sigma={\\sqrt {\\frac {\\sum_{i=1}^N(x_{i}-{\\overline {x}})^{2}}{N}}}$$\n",
    "\n",
    "First we need to get each element in our grades $x_i$ and subtract it from the mean $\\overline {x}$ then square it and take the sum of that.\n",
    "\n",
    "```python\n",
    "a = [(x-mean)**2 for x in g]\n",
    "b = sum(a)\n",
    "```\n",
    "\n",
    "Divide that by the number of elements $N$ then take the square root\n",
    "\n",
    "```python\n",
    "variance = b / count\n",
    "σ = sqrt(variance)\n",
    "```\n",
    "\n",
    "We can write the whole thing in one like this:"
   ]
  },
  {
   "cell_type": "code",
   "execution_count": 52,
   "metadata": {},
   "outputs": [
    {
     "data": {
      "text/plain": [
       "8.096912991998865"
      ]
     },
     "execution_count": 52,
     "metadata": {},
     "output_type": "execute_result"
    }
   ],
   "source": [
    "from math import sqrt\n",
    "\n",
    "σ = sqrt(sum([(x-mean)**2 for x in g]) / count)\n",
    "σ"
   ]
  },
  {
   "cell_type": "markdown",
   "metadata": {},
   "source": [
    "Note that standard deviation is a build in function in NumPy, TensorFlow and many other languages and libraries."
   ]
  },
  {
   "cell_type": "code",
   "execution_count": 53,
   "metadata": {},
   "outputs": [
    {
     "data": {
      "text/plain": [
       "8.096912991998865"
      ]
     },
     "execution_count": 53,
     "metadata": {},
     "output_type": "execute_result"
    }
   ],
   "source": [
    "import numpy as np\n",
    "\n",
    "np.std(g)"
   ]
  },
  {
   "cell_type": "markdown",
   "metadata": {},
   "source": [
    "In TensorFlow"
   ]
  },
  {
   "cell_type": "code",
   "execution_count": 54,
   "metadata": {},
   "outputs": [],
   "source": [
    "t = tf.constant(g, dtype=tf.float64)"
   ]
  },
  {
   "cell_type": "code",
   "execution_count": 55,
   "metadata": {},
   "outputs": [
    {
     "data": {
      "text/plain": [
       "8.096912991998865"
      ]
     },
     "execution_count": 55,
     "metadata": {},
     "output_type": "execute_result"
    }
   ],
   "source": [
    "mean_t, var_t = tf.nn.moments(t, axes=0)\n",
    "sqrt(var_t.eval())"
   ]
  },
  {
   "cell_type": "markdown",
   "metadata": {},
   "source": [
    "### Variance $\\sigma^2$, $s^2$ or $Var(X)$\n",
    "\n",
    "It is just the square of the standard deviation."
   ]
  },
  {
   "cell_type": "code",
   "execution_count": 56,
   "metadata": {},
   "outputs": [
    {
     "data": {
      "text/plain": [
       "65.56"
      ]
     },
     "execution_count": 56,
     "metadata": {},
     "output_type": "execute_result"
    }
   ],
   "source": [
    "variance = sum([(x-mean)**2 for x in g]) / count\n",
    "variance"
   ]
  },
  {
   "cell_type": "markdown",
   "metadata": {},
   "source": [
    "## Matrix Multiplication\n",
    "\n",
    "Arguably, the most common matrix operation you will perform in deep learning is multiplying matrices. Understanding this operation is a good start to understanding the math behind neural networks. This operation is also known as \"dot product\".\n",
    "\n",
    "Assume we have two matrices $\\mathbf{A}_{(2,3)}$ and $\\mathbf{B}_{(3,2)}$. The dot product of these two matrices $\\mathbf{A}_{(2,3)} . \\mathbf{B}_{(3,2)}$ is calculated as follows:\n",
    "\n",
    "$\\mathbf{A}_{(2,3)} = \\begin{bmatrix}\n",
    "{1} & {0} \\\\\n",
    "{3} & {2} \\\\\n",
    "{1} & {4} \\\\\n",
    "\\end{bmatrix}$\n",
    "\n",
    "$\\mathbf{B}_{(3,2)} = \\begin{bmatrix}\n",
    "{2} & {1} & {2} \\\\\n",
    "{1} & {2} & {3} \\\\\n",
    "\\end{bmatrix}$\n",
    "\n",
    "$\\mathbf{C}_{(2,2)} = \\mathbf{A}_{(2,3)} . \\mathbf{B}_{(3,2)}$\n",
    "\n",
    "$\\mathbf{C}_{(2,2)} = \\begin{bmatrix}\n",
    "{2\\times1 + 3\\times1 + 1\\times2} & {0\\times2 + 2\\times1 + 4\\times2} \\\\\n",
    "{1\\times1 + 3\\times2 + 1\\times3} & {0\\times1 + 2\\times2 + 4\\times3} \\\\\n",
    "\\end{bmatrix} = \\begin{bmatrix}\n",
    "{2 + 3 + 2} & {0 + 2 + 8} \\\\\n",
    "{1 + 6 + 3} & {0 + 4 + 12} \\\\\n",
    "\\end{bmatrix}= \\begin{bmatrix}\n",
    "{7} & {10} \\\\\n",
    "{10} & {16} \\\\\n",
    "\\end{bmatrix}$\n",
    "\n",
    "This is an animation to shows how that is done step by step.\n",
    "\n",
    "![](images/Webp.net-gifmaker.gif)\n",
    "\n",
    "Now let's confirm it with TensorFlow."
   ]
  },
  {
   "cell_type": "code",
   "execution_count": 12,
   "metadata": {},
   "outputs": [],
   "source": [
    "a = [[1,0],\n",
    "     [3,2],\n",
    "     [1,4],\n",
    "    ]\n",
    "\n",
    "b = [[2,1,2],\n",
    "     [1,2,3],\n",
    "    ]"
   ]
  },
  {
   "cell_type": "markdown",
   "metadata": {},
   "source": [
    "Remember from before, that mathematical shape of a matrix is opposite of TensorFlow shape of a tensor. So instead of rewriting our arrays, we will just use transpose you make rows into columns and columns into rows."
   ]
  },
  {
   "cell_type": "code",
   "execution_count": 13,
   "metadata": {},
   "outputs": [
    {
     "data": {
      "text/plain": [
       "array([[ 7, 10],\n",
       "       [10, 16]], dtype=int32)"
      ]
     },
     "execution_count": 13,
     "metadata": {},
     "output_type": "execute_result"
    }
   ],
   "source": [
    "a = tf.constant(a)\n",
    "b = tf.matrix_transpose(tf.constant(b))\n",
    "\n",
    "c = tf.matmul(tf.matrix_transpose(a),tf.matrix_transpose(b))\n",
    "\n",
    "c.eval()"
   ]
  },
  {
   "cell_type": "markdown",
   "metadata": {},
   "source": [
    "Luckily there is also a easier way to to that."
   ]
  },
  {
   "cell_type": "code",
   "execution_count": 59,
   "metadata": {},
   "outputs": [
    {
     "data": {
      "text/plain": [
       "array([[ 7, 10],\n",
       "       [10, 16]], dtype=int32)"
      ]
     },
     "execution_count": 59,
     "metadata": {},
     "output_type": "execute_result"
    }
   ],
   "source": [
    "c = tf.matmul(a,b, transpose_a=True, transpose_b=True)\n",
    "\n",
    "c.eval()"
   ]
  },
  {
   "cell_type": "markdown",
   "metadata": {},
   "source": [
    "<center>This work in <b>open sourced</b> and licensed under GNU General Public License v2.0<br />\n",
    "\n",
    "Copyright © 2018 Abdullah Alrasheed and other contributes<br /><br />Roshan Logo is not open sourced and is not covered by the GNU license</center>"
   ]
  }
 ],
 "metadata": {
  "kernelspec": {
   "display_name": "Python 3",
   "language": "python",
   "name": "python3"
  },
  "language_info": {
   "codemirror_mode": {
    "name": "ipython",
    "version": 3
   },
   "file_extension": ".py",
   "mimetype": "text/x-python",
   "name": "python",
   "nbconvert_exporter": "python",
   "pygments_lexer": "ipython3",
   "version": "3.5.2"
  }
 },
 "nbformat": 4,
 "nbformat_minor": 2
}
